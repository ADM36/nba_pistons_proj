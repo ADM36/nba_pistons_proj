{
 "cells": [
  {
   "cell_type": "code",
   "execution_count": 1,
   "metadata": {},
   "outputs": [],
   "source": [
    "import json\n",
    "import pandas as pd\n",
    "import seaborn as sns\n",
    "import matplotlib.pyplot as plt\n",
    "import numpy as np"
   ]
  },
  {
   "cell_type": "code",
   "execution_count": 2,
   "metadata": {},
   "outputs": [],
   "source": [
    "from nba_api.stats.endpoints import commonplayerinfo\n",
    "from nba_api.stats.static import teams\n",
    "from nba_api.stats.endpoints import leaguegamelog"
   ]
  },
  {
   "cell_type": "code",
   "execution_count": 356,
   "metadata": {},
   "outputs": [],
   "source": [
    "SEASON = 2007"
   ]
  },
  {
   "cell_type": "code",
   "execution_count": 357,
   "metadata": {},
   "outputs": [],
   "source": [
    "leaguegamelog_info = leaguegamelog.LeagueGameLog(season= SEASON)"
   ]
  },
  {
   "cell_type": "code",
   "execution_count": 358,
   "metadata": {},
   "outputs": [],
   "source": [
    "json_result = leaguegamelog_info.get_json()"
   ]
  },
  {
   "cell_type": "code",
   "execution_count": 359,
   "metadata": {},
   "outputs": [],
   "source": [
    "ini_string = json.dumps(json_result) \n",
    "final_dictionary = json.loads(json_result) "
   ]
  },
  {
   "cell_type": "code",
   "execution_count": 360,
   "metadata": {},
   "outputs": [
    {
     "data": {
      "text/plain": [
       "dict_keys(['name', 'headers', 'rowSet'])"
      ]
     },
     "execution_count": 360,
     "metadata": {},
     "output_type": "execute_result"
    }
   ],
   "source": [
    "final_dictionary['resultSets'][0].keys()"
   ]
  },
  {
   "cell_type": "code",
   "execution_count": 361,
   "metadata": {},
   "outputs": [],
   "source": [
    "column_names = final_dictionary['resultSets'][0]['headers']"
   ]
  },
  {
   "cell_type": "code",
   "execution_count": 362,
   "metadata": {},
   "outputs": [],
   "source": [
    "result_rows = final_dictionary['resultSets'][0]['rowSet']"
   ]
  },
  {
   "cell_type": "code",
   "execution_count": 363,
   "metadata": {},
   "outputs": [],
   "source": [
    "df = pd.DataFrame(result_rows, columns = column_names)"
   ]
  },
  {
   "cell_type": "code",
   "execution_count": 364,
   "metadata": {},
   "outputs": [],
   "source": [
    "df.WL.replace(to_replace=['L', 'W'], value=[0, 1], inplace = True)"
   ]
  },
  {
   "cell_type": "code",
   "execution_count": 365,
   "metadata": {},
   "outputs": [
    {
     "data": {
      "text/plain": [
       "22      1610612765\n",
       "41      1610612765\n",
       "76      1610612765\n",
       "126     1610612765\n",
       "143     1610612765\n",
       "           ...    \n",
       "2326    1610612765\n",
       "2367    1610612765\n",
       "2398    1610612765\n",
       "2424    1610612765\n",
       "2445    1610612765\n",
       "Name: TEAM_ID, Length: 82, dtype: int64"
      ]
     },
     "execution_count": 365,
     "metadata": {},
     "output_type": "execute_result"
    }
   ],
   "source": [
    "df[df.TEAM_ABBREVIATION == 'DET']['TEAM_ID']"
   ]
  },
  {
   "cell_type": "code",
   "execution_count": 366,
   "metadata": {},
   "outputs": [],
   "source": [
    "df['OPPONENT'] = df['MATCHUP'].apply(lambda L: L[-3:])"
   ]
  },
  {
   "cell_type": "code",
   "execution_count": 367,
   "metadata": {},
   "outputs": [],
   "source": [
    "#df.head()"
   ]
  },
  {
   "cell_type": "code",
   "execution_count": 368,
   "metadata": {},
   "outputs": [
    {
     "data": {
      "text/plain": [
       "('2007-10-30', '2008-04-16')"
      ]
     },
     "execution_count": 368,
     "metadata": {},
     "output_type": "execute_result"
    }
   ],
   "source": [
    "df['GAME_DATE'].min(), df['GAME_DATE'].max()"
   ]
  },
  {
   "cell_type": "code",
   "execution_count": 369,
   "metadata": {},
   "outputs": [],
   "source": [
    "#df.columns"
   ]
  },
  {
   "cell_type": "code",
   "execution_count": 370,
   "metadata": {},
   "outputs": [],
   "source": [
    "team_list = list(df['TEAM_NAME'].unique())"
   ]
  },
  {
   "cell_type": "code",
   "execution_count": 371,
   "metadata": {},
   "outputs": [],
   "source": [
    "#df[df.TEAM_ABBREVIATION == 'DET']['WL'].count()"
   ]
  },
  {
   "cell_type": "code",
   "execution_count": 372,
   "metadata": {},
   "outputs": [],
   "source": [
    "detroit_data = df[df.TEAM_ABBREVIATION == 'DET']"
   ]
  },
  {
   "cell_type": "code",
   "execution_count": 373,
   "metadata": {},
   "outputs": [],
   "source": [
    "#df[df.TEAM_ABBREVIATION == 'DET'].groupby('WL').WL.count()"
   ]
  },
  {
   "cell_type": "code",
   "execution_count": 374,
   "metadata": {},
   "outputs": [],
   "source": [
    "#df[df.TEAM_ABBREVIATION == 'DET'].groupby('WL').mean()"
   ]
  },
  {
   "cell_type": "code",
   "execution_count": 375,
   "metadata": {},
   "outputs": [],
   "source": [
    "nba_teams = teams.get_teams()"
   ]
  },
  {
   "cell_type": "code",
   "execution_count": 376,
   "metadata": {},
   "outputs": [],
   "source": [
    "# sns.set(rc={'axes.facecolor': 'lavender'})  # Background color for the plot\n",
    "\n",
    "# # Sort values by rating\n",
    "# #ratings = ratings.sort_values(by=['Your Rating'])\n",
    "\n",
    "# # Loop to create a new variable, which will turn scatterplot to a dot plot\n",
    "# game_count = []\n",
    "\n",
    "# for index, fgm in enumerate(detroit_data['FGM']):\n",
    "#     subset = detroit_data.iloc[:index + 1]  # Create subset starting at the beginning of dataset until the movie itself\n",
    "#     count = len(subset[subset['FGM'] == fgm])  # Count all movies from the same year in this subset\n",
    "#     game_count.append(count)  # Appended counts will be used as vertical values in the scatterplot,\n",
    "#     # which will help to create a dot plot\n",
    "\n",
    "# # Data for the plot\n",
    "# x = detroit_data['FGM']\n",
    "# y = game_count\n",
    "# hue = detroit_data['WL']\n",
    "\n",
    "# # Dot plot created using scatter plot\n",
    "# plt.figure(figsize=(10, 7))\n",
    "# ax = sns.scatterplot(x, y, hue=hue, s=60, legend=\"full\", palette=\"RdYlGn\")\n",
    "# ax.grid(False)  # Remove grid\n",
    "\n",
    "# #ax.get_legend().remove()  # Delete default legend\n",
    "# #scale_legend = plt.Normalize(hue.min() - 1, hue.max())  # Create a scale for the colormap.\n",
    "# #color_map = plt.cm.ScalarMappable(cmap=\"RdYlGn\", norm=scale_legend)  # Colormap used in legend.\n",
    "# #color_map = plt.cm.ScalarMappable(cmap=\"RdGy\")  # Colormap used in legend.\n",
    "# #color_map.set_array([])  # Dummy variable needed to create a colormap.\n",
    "# #ax.figure.colorbar(color_map)  # Add colormap as a legend.\n",
    "\n",
    "# plt.xlim([20, 50])  # There are just few movies I seen from before 1950.\n",
    "# plt.ylabel(\"Count\", size=14)\n",
    "# plt.xlabel(\"FGM\", size=14)\n",
    "# plt.title(\"FGM by Game\", size=20)\n",
    "# #plt.gcf().text(0.83, 0.5, \"Rating\", fontsize=14, rotation=90)  # Label used for colormap.\n",
    "# plt.show()"
   ]
  },
  {
   "cell_type": "code",
   "execution_count": 377,
   "metadata": {},
   "outputs": [],
   "source": [
    "#df.FG_PCT.mean()"
   ]
  },
  {
   "cell_type": "code",
   "execution_count": 378,
   "metadata": {},
   "outputs": [],
   "source": [
    "fg_pct_mean = df.groupby('TEAM_ABBREVIATION').FG_PCT.mean()"
   ]
  },
  {
   "cell_type": "code",
   "execution_count": 379,
   "metadata": {},
   "outputs": [],
   "source": [
    "team_wins = df.groupby('TEAM_ABBREVIATION').WL.sum().to_frame()"
   ]
  },
  {
   "cell_type": "code",
   "execution_count": 380,
   "metadata": {},
   "outputs": [
    {
     "data": {
      "text/plain": [
       "['BOS', 'DAL', 'DEN', 'DET', 'HOU', 'LAL', 'NOH', 'ORL', 'PHX', 'SAS', 'UTA']"
      ]
     },
     "execution_count": 380,
     "metadata": {},
     "output_type": "execute_result"
    }
   ],
   "source": [
    "list(team_wins[team_wins['WL'] >= 49].index)"
   ]
  },
  {
   "cell_type": "code",
   "execution_count": 381,
   "metadata": {},
   "outputs": [],
   "source": [
    "#df.groupby('TEAM_ABBREVIATION').apply(lambda x: x[x['WL'] == 1]['WL'].sum())"
   ]
  },
  {
   "cell_type": "code",
   "execution_count": 382,
   "metadata": {},
   "outputs": [],
   "source": [
    "fg_pct_mean_frame = fg_pct_mean.to_frame()\n",
    "fg_pct_mean_frame.reset_index(inplace=True)\n",
    "fg_pct_mean_frame = fg_pct_mean_frame.rename(columns = {'index':'TEAM_ABBREVIATION'})"
   ]
  },
  {
   "cell_type": "code",
   "execution_count": 383,
   "metadata": {},
   "outputs": [],
   "source": [
    "opp_fg_pct_mean = df.groupby('OPPONENT').FG_PCT.mean()\n",
    "\n",
    "opp_fg_pct_mean_frame = opp_fg_pct_mean.to_frame()\n",
    "opp_fg_pct_mean_frame.reset_index(inplace=True)\n",
    "opp_fg_pct_mean_frame = opp_fg_pct_mean_frame.rename(columns = {'OPPONENT':'TEAM_ABBREVIATION'})"
   ]
  },
  {
   "cell_type": "code",
   "execution_count": 384,
   "metadata": {},
   "outputs": [
    {
     "data": {
      "text/html": [
       "<div>\n",
       "<style scoped>\n",
       "    .dataframe tbody tr th:only-of-type {\n",
       "        vertical-align: middle;\n",
       "    }\n",
       "\n",
       "    .dataframe tbody tr th {\n",
       "        vertical-align: top;\n",
       "    }\n",
       "\n",
       "    .dataframe thead th {\n",
       "        text-align: right;\n",
       "    }\n",
       "</style>\n",
       "<table border=\"1\" class=\"dataframe\">\n",
       "  <thead>\n",
       "    <tr style=\"text-align: right;\">\n",
       "      <th></th>\n",
       "      <th>TEAM_ABBREVIATION</th>\n",
       "      <th>FG_PCT</th>\n",
       "    </tr>\n",
       "  </thead>\n",
       "  <tbody>\n",
       "    <tr>\n",
       "      <th>0</th>\n",
       "      <td>ATL</td>\n",
       "      <td>0.454634</td>\n",
       "    </tr>\n",
       "    <tr>\n",
       "      <th>1</th>\n",
       "      <td>BOS</td>\n",
       "      <td>0.475902</td>\n",
       "    </tr>\n",
       "    <tr>\n",
       "      <th>2</th>\n",
       "      <td>CHA</td>\n",
       "      <td>0.452963</td>\n",
       "    </tr>\n",
       "    <tr>\n",
       "      <th>3</th>\n",
       "      <td>CHI</td>\n",
       "      <td>0.435549</td>\n",
       "    </tr>\n",
       "    <tr>\n",
       "      <th>4</th>\n",
       "      <td>CLE</td>\n",
       "      <td>0.439012</td>\n",
       "    </tr>\n",
       "  </tbody>\n",
       "</table>\n",
       "</div>"
      ],
      "text/plain": [
       "  TEAM_ABBREVIATION    FG_PCT\n",
       "0               ATL  0.454634\n",
       "1               BOS  0.475902\n",
       "2               CHA  0.452963\n",
       "3               CHI  0.435549\n",
       "4               CLE  0.439012"
      ]
     },
     "execution_count": 384,
     "metadata": {},
     "output_type": "execute_result"
    }
   ],
   "source": [
    "fg_pct_mean_frame.head()"
   ]
  },
  {
   "cell_type": "code",
   "execution_count": 385,
   "metadata": {},
   "outputs": [
    {
     "data": {
      "text/plain": [
       "Index(['count', 'mean', 'std', 'min', '25%', '50%', '75%', 'max'], dtype='object')"
      ]
     },
     "execution_count": 385,
     "metadata": {},
     "output_type": "execute_result"
    }
   ],
   "source": [
    "fg_pct_mean_frame.describe().index"
   ]
  },
  {
   "cell_type": "code",
   "execution_count": 386,
   "metadata": {},
   "outputs": [
    {
     "data": {
      "text/plain": [
       "0.44606707317073174"
      ]
     },
     "execution_count": 386,
     "metadata": {},
     "output_type": "execute_result"
    }
   ],
   "source": [
    "fg_pct_mean_frame.quantile(.25, axis = 0)['FG_PCT']"
   ]
  },
  {
   "cell_type": "code",
   "execution_count": 387,
   "metadata": {},
   "outputs": [],
   "source": [
    "# col = np.where(fg_pct_mean_frame['TEAM_ABBREVIATION'] == 'DET','red',np.where(\n",
    "#     fg_pct_mean_frame['TEAM_ABBREVIATION'] != 'DET','black'))"
   ]
  },
  {
   "cell_type": "code",
   "execution_count": 388,
   "metadata": {},
   "outputs": [],
   "source": [
    "COLOR = fg_pct_mean_frame['TEAM_ABBREVIATION'].apply(\n",
    "#     lambda x: 'red' if x in list(team_wins[team_wins['WL'] >= 49].index) \n",
    "#     else ('gold'if x == 'DET' else 'black'))\n",
    "\n",
    "    lambda x: 'yellow' if x == 'DET' else ( 'red' if x in list(team_wins[team_wins['WL'] >= 49].index) \n",
    "    else 'black'))"
   ]
  },
  {
   "cell_type": "code",
   "execution_count": 389,
   "metadata": {},
   "outputs": [
    {
     "data": {
      "image/png": "[encoded data removed]",
      "text/plain": [
       "<Figure size 1080x720 with 1 Axes>"
      ]
     },
     "metadata": {},
     "output_type": "display_data"
    }
   ],
   "source": [
    "fg_pct_mean_frame.plot('TEAM_ABBREVIATION', 'FG_PCT', kind = 'scatter', c = COLOR, \n",
    "                       figsize=(15, 10), s = 50)\n",
    "plt.axhline(y= fg_pct_mean_frame.FG_PCT.mean(), color='red', linestyle='-')\n",
    "plt.axhline(y= fg_pct_mean_frame.quantile(.25, axis = 0)['FG_PCT'], color='black', linestyle='dashed')\n",
    "plt.axhline(y= fg_pct_mean_frame.quantile(.75, axis = 0)['FG_PCT'], color='black', linestyle='dashed')\n",
    "plt.ylim([0.40, 0.50])\n",
    "plt.xticks(rotation=45, ha='right')\n",
    "\n",
    "for team in fg_pct_mean_frame['TEAM_ABBREVIATION']:\n",
    "    if team in list(team_wins[team_wins['WL'] >= 49].index):\n",
    "        plt.annotate(team, \n",
    "                     (team, fg_pct_mean_frame[fg_pct_mean_frame['TEAM_ABBREVIATION'] == team]['FG_PCT']))\n",
    "        \n",
    "plt.title('TEAM FG_PCT DISTRIBUTION')\n",
    "plt.show()"
   ]
  },
  {
   "cell_type": "code",
   "execution_count": 390,
   "metadata": {},
   "outputs": [
    {
     "data": {
      "image/png": "[encoded data removed]",
      "text/plain": [
       "<Figure size 1080x720 with 1 Axes>"
      ]
     },
     "metadata": {},
     "output_type": "display_data"
    }
   ],
   "source": [
    "opp_fg_pct_mean_frame.plot('TEAM_ABBREVIATION', 'FG_PCT', kind = 'scatter', c = COLOR, \n",
    "                       figsize=(15, 10), s = 50)\n",
    "plt.axhline(y= opp_fg_pct_mean_frame.FG_PCT.mean(), color='red', linestyle='-')\n",
    "plt.axhline(y= opp_fg_pct_mean_frame.quantile(.25, axis = 0)['FG_PCT'], color='black', linestyle='dashed')\n",
    "plt.axhline(y= opp_fg_pct_mean_frame.quantile(.75, axis = 0)['FG_PCT'], color='black', linestyle='dashed')\n",
    "plt.ylim([0.40, 0.50])\n",
    "plt.xticks(rotation=45, ha='right')\n",
    "\n",
    "for team in opp_fg_pct_mean_frame['TEAM_ABBREVIATION']:\n",
    "    if team in list(team_wins[team_wins['WL'] >= 49].index):\n",
    "        plt.annotate(team, \n",
    "                     (team, opp_fg_pct_mean_frame[opp_fg_pct_mean_frame['TEAM_ABBREVIATION'] == team]['FG_PCT']))\n",
    "        \n",
    "plt.show()"
   ]
  },
  {
   "cell_type": "code",
   "execution_count": 391,
   "metadata": {},
   "outputs": [
    {
     "data": {
      "text/plain": [
       "Index(['SEASON_ID', 'TEAM_ID', 'TEAM_ABBREVIATION', 'TEAM_NAME', 'GAME_ID',\n",
       "       'GAME_DATE', 'MATCHUP', 'WL', 'MIN', 'FGM', 'FGA', 'FG_PCT', 'FG3M',\n",
       "       'FG3A', 'FG3_PCT', 'FTM', 'FTA', 'FT_PCT', 'OREB', 'DREB', 'REB', 'AST',\n",
       "       'STL', 'BLK', 'TOV', 'PF', 'PTS', 'PLUS_MINUS', 'VIDEO_AVAILABLE',\n",
       "       'OPPONENT'],\n",
       "      dtype='object')"
      ]
     },
     "execution_count": 391,
     "metadata": {},
     "output_type": "execute_result"
    }
   ],
   "source": [
    "df.columns"
   ]
  },
  {
   "cell_type": "code",
   "execution_count": 392,
   "metadata": {},
   "outputs": [],
   "source": [
    "statistic = 'FG_PCT'"
   ]
  },
  {
   "cell_type": "code",
   "execution_count": 393,
   "metadata": {},
   "outputs": [],
   "source": [
    "statistic_mean = df.groupby('TEAM_ABBREVIATION')[statistic].mean()\n",
    "\n",
    "statistic_mean_frame = statistic_mean.to_frame()\n",
    "statistic_mean_frame.reset_index(inplace=True)"
   ]
  },
  {
   "cell_type": "code",
   "execution_count": 394,
   "metadata": {},
   "outputs": [
    {
     "data": {
      "image/png": "[encoded data removed]",
      "text/plain": [
       "<Figure size 1080x720 with 1 Axes>"
      ]
     },
     "metadata": {},
     "output_type": "display_data"
    }
   ],
   "source": [
    "statistic_mean_frame.plot('TEAM_ABBREVIATION', statistic, kind = 'scatter', c = COLOR, \n",
    "                       figsize=(15, 10), s = 50)\n",
    "plt.axhline(y= statistic_mean_frame[statistic].mean(), color='red', linestyle='-')\n",
    "plt.axhline(y= statistic_mean_frame.quantile(.25, axis = 0)[statistic], color='black', linestyle='dashed')\n",
    "plt.axhline(y= statistic_mean_frame.quantile(.75, axis = 0)[statistic], color='black', linestyle='dashed')\n",
    "# plt.ylim([0.40, 0.50])\n",
    "plt.xticks(rotation=45, ha='right')\n",
    "\n",
    "plt.ylim(statistic_mean.min() - (statistic_mean.median() * .025), \n",
    "                                     statistic_mean.max() + (statistic_mean.median() * .025))\n",
    "\n",
    "for team in statistic_mean_frame['TEAM_ABBREVIATION']:\n",
    "    if team in list(team_wins[team_wins['WL'] >= 49].index):\n",
    "        plt.annotate(team, \n",
    "                     (team, statistic_mean_frame[statistic_mean_frame['TEAM_ABBREVIATION'] == team][statistic]))\n",
    "\n",
    "# plt.axhspan(statistic_mean_frame.quantile(.75, axis = 0)[statistic], \n",
    "#             plt.ylim()[1],\n",
    "#             facecolor='g', alpha=0.2)\n",
    "\n",
    "# plt.axhspan(statistic_mean_frame.quantile(.25, axis = 0)[statistic], \n",
    "#             plt.ylim()[0],\n",
    "#             facecolor='r', alpha=0.2)\n",
    "\n",
    "plt.title('NBA TEAM OFFENSIVE ' + str(statistic) + ' ' + str(SEASON))        \n",
    "plt.show()"
   ]
  },
  {
   "cell_type": "code",
   "execution_count": 395,
   "metadata": {},
   "outputs": [],
   "source": [
    "def_statistic_mean = df.groupby('OPPONENT')[statistic].mean()\n",
    "\n",
    "def_statistic_mean_frame = def_statistic_mean.to_frame()\n",
    "def_statistic_mean_frame.reset_index(inplace=True)\n",
    "def_statistic_mean_frame = def_statistic_mean_frame.rename(columns = {'OPPONENT':'TEAM_ABBREVIATION'})"
   ]
  },
  {
   "cell_type": "code",
   "execution_count": 396,
   "metadata": {},
   "outputs": [
    {
     "data": {
      "image/png": "[encoded data removed]",
      "text/plain": [
       "<Figure size 1080x720 with 1 Axes>"
      ]
     },
     "metadata": {},
     "output_type": "display_data"
    }
   ],
   "source": [
    "def_statistic_mean_frame.plot('TEAM_ABBREVIATION', statistic, kind = 'scatter', c = COLOR, \n",
    "                       figsize=(15, 10), s = 50)\n",
    "plt.axhline(y= def_statistic_mean_frame[statistic].mean(), color='red', linestyle='-')\n",
    "plt.axhline(y= def_statistic_mean_frame.quantile(.25, axis = 0)[statistic], color='black', linestyle='dashed')\n",
    "plt.axhline(y= def_statistic_mean_frame.quantile(.75, axis = 0)[statistic], color='black', linestyle='dashed')\n",
    "# plt.ylim([0.40, 0.50])\n",
    "plt.xticks(rotation=45, ha='right')\n",
    "plt.ylim(def_statistic_mean.min() - (def_statistic_mean.median() * .025), \n",
    "                                     def_statistic_mean.max() + (def_statistic_mean.median() * .025))\n",
    "\n",
    "for team in def_statistic_mean_frame['TEAM_ABBREVIATION']:\n",
    "    if team in list(team_wins[team_wins['WL'] >= 49].index):\n",
    "        plt.annotate(team, \n",
    "                     (team, def_statistic_mean_frame[def_statistic_mean_frame['TEAM_ABBREVIATION'] == team][statistic]))\n",
    "\n",
    "plt.axhspan(def_statistic_mean_frame.quantile(.25, axis = 0)[statistic], \n",
    "            plt.ylim()[0],\n",
    "            facecolor='g', alpha=0.2)\n",
    "\n",
    "# plt.legend(def_statistic_mean_frame[statistic], \n",
    "#            list(team_wins[team_wins['WL'] >= 49].index), loc = 'best')\n",
    "plt.title('NBA TEAM DEFENSIVE' + str(statistic) + ' ' + str(SEASON))        \n",
    "plt.show()"
   ]
  },
  {
   "cell_type": "code",
   "execution_count": 397,
   "metadata": {},
   "outputs": [
    {
     "data": {
      "text/plain": [
       "array([0.48071951, 0.47959756, 0.47568293, 0.47193902, 0.46869512,\n",
       "       0.46856098, 0.46784146, 0.46780488, 0.46667073, 0.46332927,\n",
       "       0.46173171, 0.46141463, 0.46119512, 0.46064634, 0.46039024,\n",
       "       0.45780488, 0.45754878, 0.45735366, 0.45719512, 0.45582927,\n",
       "       0.45568293, 0.45365854, 0.45208537, 0.44882927, 0.44603659,\n",
       "       0.44486585, 0.4447561 , 0.43770732, 0.4345    , 0.42035366])"
      ]
     },
     "execution_count": 397,
     "metadata": {},
     "output_type": "execute_result"
    }
   ],
   "source": [
    "np.sort(def_statistic_mean)[::-1]"
   ]
  },
  {
   "cell_type": "code",
   "execution_count": 398,
   "metadata": {},
   "outputs": [],
   "source": [
    "sort_statistic = 'WL'"
   ]
  },
  {
   "cell_type": "code",
   "execution_count": 399,
   "metadata": {},
   "outputs": [
    {
     "data": {
      "text/plain": [
       "TEAM_ABBREVIATION\n",
       "BOS    0.804878\n",
       "DET    0.719512\n",
       "LAL    0.695122\n",
       "NOH    0.682927\n",
       "SAS    0.682927\n",
       "HOU    0.670732\n",
       "PHX    0.670732\n",
       "UTA    0.658537\n",
       "ORL    0.634146\n",
       "DAL    0.621951\n",
       "Name: WL, dtype: float64"
      ]
     },
     "execution_count": 399,
     "metadata": {},
     "output_type": "execute_result"
    }
   ],
   "source": [
    "df.groupby('TEAM_ABBREVIATION').mean().sort_values(\n",
    "    by = sort_statistic, ascending = False)[sort_statistic].iloc[:10]"
   ]
  },
  {
   "cell_type": "code",
   "execution_count": 400,
   "metadata": {},
   "outputs": [
    {
     "data": {
      "text/plain": [
       "OPPONENT\n",
       "MIA    0.817073\n",
       "SEA    0.756098\n",
       "MIN    0.731707\n",
       "MEM    0.731707\n",
       "LAC    0.719512\n",
       "NYK    0.719512\n",
       "MIL    0.682927\n",
       "CHA    0.609756\n",
       "CHI    0.597561\n",
       "NJN    0.585366\n",
       "Name: WL, dtype: float64"
      ]
     },
     "execution_count": 400,
     "metadata": {},
     "output_type": "execute_result"
    }
   ],
   "source": [
    "df.groupby('OPPONENT').mean().sort_values(\n",
    "    by = sort_statistic, ascending = False)[sort_statistic].iloc[:10]"
   ]
  },
  {
   "cell_type": "code",
   "execution_count": 401,
   "metadata": {},
   "outputs": [],
   "source": [
    "#df.groupby('TEAM_ABBREVIATION').mean().sort_values(\n",
    "#    by = sort_statistic, ascending = False).drop(columns = ['TEAM_ID', 'VIDEO_AVAILABLE', 'MIN'])"
   ]
  },
  {
   "cell_type": "code",
   "execution_count": 402,
   "metadata": {},
   "outputs": [],
   "source": [
    "offensive_stats_df = df.groupby('TEAM_ABBREVIATION').mean().sort_values(\n",
    "    by = sort_statistic, ascending = False).drop(columns = \n",
    "                                                 ['TEAM_ID', 'VIDEO_AVAILABLE', 'MIN'])"
   ]
  },
  {
   "cell_type": "code",
   "execution_count": 403,
   "metadata": {},
   "outputs": [],
   "source": [
    "defensive_stats_df = df.groupby('OPPONENT').mean().sort_values(\n",
    "    by = sort_statistic, ascending = True).drop(columns = ['TEAM_ID', 'VIDEO_AVAILABLE', 'MIN'])"
   ]
  },
  {
   "cell_type": "code",
   "execution_count": 404,
   "metadata": {},
   "outputs": [
    {
     "name": "stdout",
     "output_type": "stream",
     "text": [
      "\n",
      "Top Offensive Teams in NBA:\n"
     ]
    }
   ],
   "source": [
    "off_dic = {}\n",
    "\n",
    "def off_color_top_10(t):\n",
    "\n",
    "#    is_max = t > t.mean()\n",
    "\n",
    "    if t.max() in [offensive_stats_df['TOV'].max(), offensive_stats_df['PF'].max()]:\n",
    "        is_max = t < t.sort_values(ascending = False).iloc[-6]\n",
    "        is_min = t > t.sort_values(ascending = False).iloc[6]\n",
    "#        print(is_min)\n",
    "        \n",
    "        for index, row in is_max.iteritems():\n",
    "            if row == True:\n",
    "                if index in off_dic.keys():\n",
    "                    off_dic[index] +=1\n",
    "                else:\n",
    "                    off_dic[index] = 1\n",
    "        \n",
    "        for index, row in is_min.iteritems():\n",
    "            if row == True:\n",
    "                if index in off_dic.keys():\n",
    "                    off_dic[index] -= 1\n",
    "                else:\n",
    "                    off_dic[index] = -1\n",
    "                    \n",
    "        return ['background-color: yellow' if u else '' for u in is_max]\n",
    "    \n",
    "    else:\n",
    "        is_max = t > t.sort_values(ascending = False).iloc[5]\n",
    "        is_min = t < t.sort_values(ascending = False).iloc[-5]\n",
    "#        print(is_min)\n",
    "\n",
    "        for index, row in is_max.iteritems():\n",
    "            if row == True:\n",
    "                if index in off_dic.keys():\n",
    "                    off_dic[index] +=1\n",
    "                else:\n",
    "                    off_dic[index] = 1\n",
    "\n",
    "        for index, row in is_min.iteritems():\n",
    "            if row == True:\n",
    "                if index in off_dic.keys():\n",
    "                    off_dic[index] -= 1\n",
    "                else:\n",
    "                    off_dic[index] = -1\n",
    "                    \n",
    "        return ['background-color: yellow' if u else '' for u in is_max]\n",
    "\n",
    "def off_highlight_max(s):\n",
    "    '''\n",
    "    highlight the maximum in a Series yellow.\n",
    "    '''\n",
    "    if s.max() in [offensive_stats_df['TOV'].max(), offensive_stats_df['PF'].max()]:\n",
    "        is_max = s == s.sort_values(ascending = False).min()\n",
    "        return ['background-color: orange' if u else '' for u in is_max]\n",
    "\n",
    "    else:\n",
    "        is_max = s == s.sort_values(ascending = False).max()\n",
    "        return ['background-color: orange' if u else '' for u in is_max]\n",
    "\n",
    "#print(\"\\nHighlight the top 10 values in each column:\")\n",
    "#offensive_stats_df.drop(columns = ['WL']).style.apply(off_color_top_10)\n",
    "\n",
    "print(\"\\nTop Offensive Teams in NBA:\")\n",
    "with pd.option_context('display.precision', 3):\n",
    "    html =\\\n",
    "(offensive_stats_df.drop(columns = ['WL']).style.\\\n",
    "apply(off_color_top_10).\\\n",
    "apply(off_highlight_max))\n",
    "\n",
    "html\n",
    "html.to_excel(\"Offensive_Stats_\" + str(SEASON) + \".xlsx\",\n",
    "             sheet_name=str(SEASON))"
   ]
  },
  {
   "cell_type": "code",
   "execution_count": 405,
   "metadata": {},
   "outputs": [
    {
     "data": {
      "text/plain": [
       "[('LAC', -9),\n",
       " ('MIA', -7),\n",
       " ('NYK', -4),\n",
       " ('MIN', -4),\n",
       " ('POR', -3),\n",
       " ('NJN', -3),\n",
       " ('PHI', -3),\n",
       " ('SEA', -2),\n",
       " ('SAS', -2),\n",
       " ('MEM', -1),\n",
       " ('CHA', -1),\n",
       " ('MIL', -1),\n",
       " ('BOS', 0),\n",
       " ('CLE', 0),\n",
       " ('ATL', 0),\n",
       " ('NOH', 0),\n",
       " ('SAC', 0),\n",
       " ('HOU', 0),\n",
       " ('WAS', 0),\n",
       " ('IND', 1),\n",
       " ('CHI', 1),\n",
       " ('DAL', 1),\n",
       " ('TOR', 2),\n",
       " ('ORL', 3),\n",
       " ('DET', 3),\n",
       " ('GSW', 6),\n",
       " ('UTA', 7),\n",
       " ('PHX', 9),\n",
       " ('DEN', 10),\n",
       " ('LAL', 12)]"
      ]
     },
     "execution_count": 405,
     "metadata": {},
     "output_type": "execute_result"
    }
   ],
   "source": [
    "sorted(off_dic.items(), key=lambda x:x[1])"
   ]
  },
  {
   "cell_type": "code",
   "execution_count": 406,
   "metadata": {},
   "outputs": [
    {
     "name": "stdout",
     "output_type": "stream",
     "text": [
      "\n",
      "Top Defensive Teams in NBA:\n"
     ]
    }
   ],
   "source": [
    "def_dic = {}\n",
    "\n",
    "def def_color_top_10(t):\n",
    "\n",
    "#    is_max = t > t.mean()\n",
    "\n",
    "    if t.max() in [defensive_stats_df['TOV'].max(), defensive_stats_df['TOV'].max()]:\n",
    "        is_max = t > t.sort_values(ascending = False).iloc[6]\n",
    "        is_min = t < t.sort_values(ascending = False).iloc[-5]\n",
    "        \n",
    "        for index, row in is_max.iteritems():\n",
    "            if row == True:\n",
    "                if index in def_dic.keys():\n",
    "                    def_dic[index] +=1\n",
    "                else:\n",
    "                    def_dic[index] = 1\n",
    "\n",
    "        for index, row in is_min.iteritems():\n",
    "            if row == True:\n",
    "                if index in def_dic.keys():\n",
    "                    def_dic[index] -= 1\n",
    "                else:\n",
    "                    def_dic[index] = -1\n",
    "\n",
    "        return ['background-color: yellow' if u else '' for u in is_max]\n",
    "\n",
    "    else:\n",
    "        is_max = t < t.sort_values(ascending = False).iloc[-6]\n",
    "        is_min = t > t.sort_values(ascending = False).iloc[6]\n",
    "        \n",
    "        for index, row in is_max.iteritems():\n",
    "            if row == True:\n",
    "                if index in def_dic.keys():\n",
    "                    def_dic[index] +=1\n",
    "                else:\n",
    "                    def_dic[index] = 1\n",
    "\n",
    "        for index, row in is_min.iteritems():\n",
    "            if row == True:\n",
    "                if index in def_dic.keys():\n",
    "                    def_dic[index] -= 1\n",
    "                else:\n",
    "                    def_dic[index] = -1  \n",
    "                    \n",
    "        return ['background-color: yellow' if u else '' for u in is_max]\n",
    "\n",
    "def highlight_max(s):\n",
    "    '''\n",
    "    highlight the maximum in a Series yellow.\n",
    "    '''\n",
    "    if s.max() in [defensive_stats_df['TOV'].max(), defensive_stats_df['PF'].max()]:\n",
    "        is_max = s == s.sort_values(ascending = False).max()\n",
    "        return ['background-color: orange' if u else '' for u in is_max]\n",
    "\n",
    "    else:\n",
    "        is_max = s == s.sort_values(ascending = False).min()\n",
    "        return ['background-color: orange' if u else '' for u in is_max]\n",
    "\n",
    "print(\"\\nTop Defensive Teams in NBA:\")\n",
    "with pd.option_context('display.precision', 3):\n",
    "    html =\\\n",
    "(defensive_stats_df.drop(columns = ['WL']).style.\\\n",
    "apply(def_color_top_10).\\\n",
    "apply(highlight_max))\n",
    "\n",
    "html\n",
    "html.to_excel(\"Defensive_Stats_\" + str(SEASON) + \".xlsx\",\n",
    "             sheet_name=str(SEASON))"
   ]
  },
  {
   "cell_type": "code",
   "execution_count": 407,
   "metadata": {},
   "outputs": [
    {
     "data": {
      "text/plain": [
       "[('GSW', -9),\n",
       " ('MEM', -9),\n",
       " ('SEA', -9),\n",
       " ('SAC', -9),\n",
       " ('DEN', -8),\n",
       " ('IND', -7),\n",
       " ('NYK', -5),\n",
       " ('MIN', -5),\n",
       " ('MIL', -4),\n",
       " ('NJN', -4),\n",
       " ('WAS', -3),\n",
       " ('CHI', -3),\n",
       " ('PHX', -2),\n",
       " ('LAL', -2),\n",
       " ('MIA', -2),\n",
       " ('CHA', -2),\n",
       " ('LAC', -2),\n",
       " ('ORL', 0),\n",
       " ('ATL', 1),\n",
       " ('POR', 1),\n",
       " ('CLE', 3),\n",
       " ('TOR', 3),\n",
       " ('UTA', 4),\n",
       " ('PHI', 4),\n",
       " ('DAL', 5),\n",
       " ('NOH', 6),\n",
       " ('HOU', 8),\n",
       " ('BOS', 10),\n",
       " ('SAS', 10),\n",
       " ('DET', 14)]"
      ]
     },
     "execution_count": 407,
     "metadata": {},
     "output_type": "execute_result"
    }
   ],
   "source": [
    "sorted(def_dic.items(), key=lambda x:x[1])"
   ]
  },
  {
   "cell_type": "code",
   "execution_count": 408,
   "metadata": {},
   "outputs": [
    {
     "data": {
      "text/plain": [
       "[('ORL', 1),\n",
       " ('CLE', 1),\n",
       " ('LAL', 1),\n",
       " ('HOU', 1),\n",
       " ('DET', 1),\n",
       " ('NOH', 1),\n",
       " ('BOS', 1),\n",
       " ('PHX', 2),\n",
       " ('TOR', 2),\n",
       " ('GSW', 4),\n",
       " ('DEN', 4)]"
      ]
     },
     "execution_count": 408,
     "metadata": {},
     "output_type": "execute_result"
    }
   ],
   "source": [
    "top_off_dic = {}\n",
    "for index, row in offensive_stats_df.iteritems():\n",
    "    if index == 'WL':\n",
    "        pass\n",
    "    elif index in ['TOV', 'PF']:\n",
    "        if row.idxmin() in top_off_dic.keys():\n",
    "            top_off_dic[row.idxmin()] +=1\n",
    "        else:\n",
    "            top_off_dic[row.idxmin()] = 1\n",
    "    else:\n",
    "        if row.idxmax() in top_off_dic.keys():\n",
    "            top_off_dic[row.idxmax()] +=1\n",
    "        else:\n",
    "            top_off_dic[row.idxmax()] = 1\n",
    "        \n",
    "sorted(top_off_dic.items(), key=lambda x:x[1])"
   ]
  },
  {
   "cell_type": "code",
   "execution_count": 409,
   "metadata": {},
   "outputs": [
    {
     "data": {
      "text/plain": [
       "[('HOU', 1),\n",
       " ('POR', 1),\n",
       " ('DET', 2),\n",
       " ('DAL', 2),\n",
       " ('SAS', 2),\n",
       " ('UTA', 2),\n",
       " ('NOH', 3),\n",
       " ('BOS', 4)]"
      ]
     },
     "execution_count": 409,
     "metadata": {},
     "output_type": "execute_result"
    }
   ],
   "source": [
    "top_def_dic = {}\n",
    "for index, row in defensive_stats_df.iteritems():\n",
    "    if index == 'WL':\n",
    "        pass\n",
    "    elif index in ['TOV', 'PF']:\n",
    "        if row.idxmax() in top_off_dic.keys():\n",
    "            top_off_dic[row.idxmax()] +=1\n",
    "        else:\n",
    "            top_off_dic[row.idxmax()] = 1\n",
    "    else:\n",
    "        if row.idxmin() in top_def_dic.keys():\n",
    "            top_def_dic[row.idxmin()] +=1\n",
    "        else:\n",
    "            top_def_dic[row.idxmin()] = 1\n",
    "        \n",
    "sorted(top_def_dic.items(), key=lambda x:x[1])"
   ]
  },
  {
   "cell_type": "code",
   "execution_count": 410,
   "metadata": {},
   "outputs": [],
   "source": [
    "re_index_offensive_stats_df = offensive_stats_df.reset_index()"
   ]
  },
  {
   "cell_type": "code",
   "execution_count": 411,
   "metadata": {},
   "outputs": [
    {
     "data": {
      "text/html": [
       "<div>\n",
       "<style scoped>\n",
       "    .dataframe tbody tr th:only-of-type {\n",
       "        vertical-align: middle;\n",
       "    }\n",
       "\n",
       "    .dataframe tbody tr th {\n",
       "        vertical-align: top;\n",
       "    }\n",
       "\n",
       "    .dataframe thead th {\n",
       "        text-align: right;\n",
       "    }\n",
       "</style>\n",
       "<table border=\"1\" class=\"dataframe\">\n",
       "  <thead>\n",
       "    <tr style=\"text-align: right;\">\n",
       "      <th></th>\n",
       "      <th>TEAM_ABBREVIATION</th>\n",
       "      <th>WL</th>\n",
       "      <th>FGM</th>\n",
       "      <th>FGA</th>\n",
       "      <th>FG_PCT</th>\n",
       "      <th>FG3M</th>\n",
       "      <th>FG3A</th>\n",
       "      <th>FG3_PCT</th>\n",
       "      <th>FTM</th>\n",
       "      <th>FTA</th>\n",
       "      <th>...</th>\n",
       "      <th>OREB</th>\n",
       "      <th>DREB</th>\n",
       "      <th>REB</th>\n",
       "      <th>AST</th>\n",
       "      <th>STL</th>\n",
       "      <th>BLK</th>\n",
       "      <th>TOV</th>\n",
       "      <th>PF</th>\n",
       "      <th>PTS</th>\n",
       "      <th>PLUS_MINUS</th>\n",
       "    </tr>\n",
       "  </thead>\n",
       "  <tbody>\n",
       "    <tr>\n",
       "      <th>0</th>\n",
       "      <td>BOS</td>\n",
       "      <td>0.804878</td>\n",
       "      <td>36.414634</td>\n",
       "      <td>76.658537</td>\n",
       "      <td>0.475902</td>\n",
       "      <td>7.268293</td>\n",
       "      <td>19.073171</td>\n",
       "      <td>0.376768</td>\n",
       "      <td>20.451220</td>\n",
       "      <td>26.536585</td>\n",
       "      <td>...</td>\n",
       "      <td>10.121951</td>\n",
       "      <td>31.890244</td>\n",
       "      <td>42.012195</td>\n",
       "      <td>22.353659</td>\n",
       "      <td>8.487805</td>\n",
       "      <td>4.621951</td>\n",
       "      <td>15.195122</td>\n",
       "      <td>22.731707</td>\n",
       "      <td>100.548780</td>\n",
       "      <td>10.256098</td>\n",
       "    </tr>\n",
       "    <tr>\n",
       "      <th>1</th>\n",
       "      <td>DET</td>\n",
       "      <td>0.719512</td>\n",
       "      <td>36.573171</td>\n",
       "      <td>79.890244</td>\n",
       "      <td>0.458232</td>\n",
       "      <td>5.939024</td>\n",
       "      <td>16.219512</td>\n",
       "      <td>0.366402</td>\n",
       "      <td>18.378049</td>\n",
       "      <td>23.963415</td>\n",
       "      <td>...</td>\n",
       "      <td>11.878049</td>\n",
       "      <td>29.548780</td>\n",
       "      <td>41.426829</td>\n",
       "      <td>22.329268</td>\n",
       "      <td>7.109756</td>\n",
       "      <td>5.756098</td>\n",
       "      <td>11.658537</td>\n",
       "      <td>20.585366</td>\n",
       "      <td>97.463415</td>\n",
       "      <td>7.390244</td>\n",
       "    </tr>\n",
       "    <tr>\n",
       "      <th>2</th>\n",
       "      <td>LAL</td>\n",
       "      <td>0.695122</td>\n",
       "      <td>39.609756</td>\n",
       "      <td>83.146341</td>\n",
       "      <td>0.477902</td>\n",
       "      <td>8.073171</td>\n",
       "      <td>21.353659</td>\n",
       "      <td>0.380573</td>\n",
       "      <td>21.292683</td>\n",
       "      <td>27.682927</td>\n",
       "      <td>...</td>\n",
       "      <td>10.951220</td>\n",
       "      <td>33.195122</td>\n",
       "      <td>44.146341</td>\n",
       "      <td>24.426829</td>\n",
       "      <td>7.975610</td>\n",
       "      <td>5.341463</td>\n",
       "      <td>14.097561</td>\n",
       "      <td>20.621951</td>\n",
       "      <td>108.585366</td>\n",
       "      <td>7.256098</td>\n",
       "    </tr>\n",
       "    <tr>\n",
       "      <th>3</th>\n",
       "      <td>NOH</td>\n",
       "      <td>0.682927</td>\n",
       "      <td>38.585366</td>\n",
       "      <td>82.878049</td>\n",
       "      <td>0.465549</td>\n",
       "      <td>7.682927</td>\n",
       "      <td>19.768293</td>\n",
       "      <td>0.382378</td>\n",
       "      <td>16.000000</td>\n",
       "      <td>20.817073</td>\n",
       "      <td>...</td>\n",
       "      <td>11.426829</td>\n",
       "      <td>30.414634</td>\n",
       "      <td>41.841463</td>\n",
       "      <td>21.768293</td>\n",
       "      <td>7.768293</td>\n",
       "      <td>3.914634</td>\n",
       "      <td>11.878049</td>\n",
       "      <td>18.670732</td>\n",
       "      <td>100.853659</td>\n",
       "      <td>5.280488</td>\n",
       "    </tr>\n",
       "    <tr>\n",
       "      <th>4</th>\n",
       "      <td>SAS</td>\n",
       "      <td>0.682927</td>\n",
       "      <td>35.829268</td>\n",
       "      <td>78.341463</td>\n",
       "      <td>0.457622</td>\n",
       "      <td>7.243902</td>\n",
       "      <td>19.634146</td>\n",
       "      <td>0.368915</td>\n",
       "      <td>16.463415</td>\n",
       "      <td>21.634146</td>\n",
       "      <td>...</td>\n",
       "      <td>9.402439</td>\n",
       "      <td>31.853659</td>\n",
       "      <td>41.256098</td>\n",
       "      <td>20.951220</td>\n",
       "      <td>6.353659</td>\n",
       "      <td>4.109756</td>\n",
       "      <td>12.621951</td>\n",
       "      <td>18.743902</td>\n",
       "      <td>95.365854</td>\n",
       "      <td>4.792683</td>\n",
       "    </tr>\n",
       "  </tbody>\n",
       "</table>\n",
       "<p>5 rows × 21 columns</p>\n",
       "</div>"
      ],
      "text/plain": [
       "  TEAM_ABBREVIATION        WL        FGM        FGA    FG_PCT      FG3M  \\\n",
       "0               BOS  0.804878  36.414634  76.658537  0.475902  7.268293   \n",
       "1               DET  0.719512  36.573171  79.890244  0.458232  5.939024   \n",
       "2               LAL  0.695122  39.609756  83.146341  0.477902  8.073171   \n",
       "3               NOH  0.682927  38.585366  82.878049  0.465549  7.682927   \n",
       "4               SAS  0.682927  35.829268  78.341463  0.457622  7.243902   \n",
       "\n",
       "        FG3A   FG3_PCT        FTM        FTA  ...       OREB       DREB  \\\n",
       "0  19.073171  0.376768  20.451220  26.536585  ...  10.121951  31.890244   \n",
       "1  16.219512  0.366402  18.378049  23.963415  ...  11.878049  29.548780   \n",
       "2  21.353659  0.380573  21.292683  27.682927  ...  10.951220  33.195122   \n",
       "3  19.768293  0.382378  16.000000  20.817073  ...  11.426829  30.414634   \n",
       "4  19.634146  0.368915  16.463415  21.634146  ...   9.402439  31.853659   \n",
       "\n",
       "         REB        AST       STL       BLK        TOV         PF         PTS  \\\n",
       "0  42.012195  22.353659  8.487805  4.621951  15.195122  22.731707  100.548780   \n",
       "1  41.426829  22.329268  7.109756  5.756098  11.658537  20.585366   97.463415   \n",
       "2  44.146341  24.426829  7.975610  5.341463  14.097561  20.621951  108.585366   \n",
       "3  41.841463  21.768293  7.768293  3.914634  11.878049  18.670732  100.853659   \n",
       "4  41.256098  20.951220  6.353659  4.109756  12.621951  18.743902   95.365854   \n",
       "\n",
       "   PLUS_MINUS  \n",
       "0   10.256098  \n",
       "1    7.390244  \n",
       "2    7.256098  \n",
       "3    5.280488  \n",
       "4    4.792683  \n",
       "\n",
       "[5 rows x 21 columns]"
      ]
     },
     "execution_count": 411,
     "metadata": {},
     "output_type": "execute_result"
    }
   ],
   "source": [
    "re_index_offensive_stats_df.head()"
   ]
  },
  {
   "cell_type": "code",
   "execution_count": 412,
   "metadata": {},
   "outputs": [],
   "source": [
    "statistic = 'FG3M'"
   ]
  },
  {
   "cell_type": "code",
   "execution_count": 413,
   "metadata": {},
   "outputs": [],
   "source": [
    "def_statistic_mean = df.groupby('OPPONENT')[statistic].mean()\n",
    "\n",
    "def_statistic_mean_frame = def_statistic_mean.to_frame()\n",
    "def_statistic_mean_frame.reset_index(inplace=True)\n",
    "def_statistic_mean_frame = def_statistic_mean_frame.rename(columns = {'OPPONENT':'TEAM_ABBREVIATION'})"
   ]
  },
  {
   "cell_type": "code",
   "execution_count": 414,
   "metadata": {},
   "outputs": [],
   "source": [
    "c_list = []\n",
    "for index, row in def_statistic_mean_frame.iterrows():\n",
    "    if row['TEAM_ABBREVIATION'] in list(team_wins[team_wins['WL'] >= 49].index):\n",
    "        c = 'orange'\n",
    "    else:\n",
    "        c = 'silver'\n",
    "    c_list.append(c)\n",
    "\n",
    "\n",
    "def_statistic_mean_frame['49 & Up Club'] = c_list   "
   ]
  },
  {
   "cell_type": "code",
   "execution_count": 415,
   "metadata": {},
   "outputs": [],
   "source": [
    "def def_stats_grapher(statistic):\n",
    "    \n",
    "    if statistic in ['TOV', 'PF']:\n",
    "        ascend_arg = False\n",
    "        upper = .25\n",
    "        down = .75\n",
    "    else:\n",
    "        ascend_arg = True\n",
    "        upper = .75\n",
    "        down = .25\n",
    "        \n",
    "    def_statistic_mean = df.groupby('OPPONENT')[statistic].mean()\n",
    "\n",
    "    def_statistic_mean_frame = def_statistic_mean.to_frame()\n",
    "    def_statistic_mean_frame.reset_index(inplace=True)\n",
    "    def_statistic_mean_frame = def_statistic_mean_frame.rename(columns = {'OPPONENT':'TEAM_ABBREVIATION'})\n",
    "    \n",
    "    c_list = []\n",
    "    for index, row in def_statistic_mean_frame.iterrows():\n",
    "        if row['TEAM_ABBREVIATION'] in list(team_wins[team_wins['WL'] >= 49].index):\n",
    "            c = 'orange'\n",
    "        else:\n",
    "            c = 'silver'\n",
    "        c_list.append(c)\n",
    "\n",
    "\n",
    "    def_statistic_mean_frame['49 & Up Club'] = c_list \n",
    "\n",
    "    def_statistic_mean_frame.sort_values([statistic], ascending = ascend_arg, inplace = True)\n",
    "    def_statistic_mean_frame.plot(x = 'TEAM_ABBREVIATION', y = statistic, kind = 'bar', figsize=(12, 8), \n",
    "                                   color = def_statistic_mean_frame['49 & Up Club'], legend = False\n",
    "                                 )\n",
    "\n",
    "    plt.axhline(y= def_statistic_mean_frame[statistic].mean(), color='red', linestyle='-')\n",
    "    plt.axhline(y= def_statistic_mean_frame.quantile(.25, axis = 0)[statistic], color='black', linestyle='dashed')\n",
    "    plt.axhline(y= def_statistic_mean_frame.quantile(.75, axis = 0)[statistic], color='black', linestyle='dashed')\n",
    "    # # plt.ylim([0.40, 0.50])\n",
    "    # plt.xticks(rotation=45, ha='right')\n",
    "    plt.ylim(def_statistic_mean.min() - (def_statistic_mean.median() * .01), \n",
    "                                         def_statistic_mean.max() + (def_statistic_mean.median() * .01))\n",
    "\n",
    "    plt.axhspan(def_statistic_mean_frame.quantile(.75, axis = 0)[statistic], \n",
    "                plt.ylim()[1],\n",
    "                facecolor='r', alpha=0.2)\n",
    "\n",
    "    plt.axhspan(def_statistic_mean_frame.quantile(.25, axis = 0)[statistic], \n",
    "                plt.ylim()[0],\n",
    "                facecolor='g', alpha=0.2)\n",
    "\n",
    "    ax = plt.gca()\n",
    "    ax.set_facecolor('white')\n",
    "    ax.spines['bottom'].set_color('black')\n",
    "    ax.spines['top'].set_color('black')\n",
    "    ax.spines['right'].set_color('black')\n",
    "    ax.spines['left'].set_color('black')\n",
    "\n",
    "    plt.title('NBA TEAM FOUL SHOTS GIVEN' + ' 2005-05')        \n",
    "#     plt.title('NBA TEAM DEFENSIVE ' + str(statistic) + ' ' + str(SEASON))        \n",
    "    #plt.show()\n",
    "    plt.savefig('test_def_graph_' + str(statistic) + '.png')"
   ]
  },
  {
   "cell_type": "code",
   "execution_count": 416,
   "metadata": {},
   "outputs": [],
   "source": [
    "off_statistic_mean = df.groupby('TEAM_ABBREVIATION')[statistic].mean()\n",
    "\n",
    "off_statistic_mean_frame = off_statistic_mean.to_frame()\n",
    "off_statistic_mean_frame.reset_index(inplace=True)\n",
    "off_statistic_mean_frame = off_statistic_mean_frame.rename(columns = {'TEAM_ABBREVIATION':'TEAM_ABBREVIATION'})"
   ]
  },
  {
   "cell_type": "code",
   "execution_count": 417,
   "metadata": {},
   "outputs": [],
   "source": [
    "c_list = []\n",
    "for index, row in off_statistic_mean_frame.iterrows():\n",
    "    if row['TEAM_ABBREVIATION'] in list(team_wins[team_wins['WL'] >= 49].index):\n",
    "        c = 'orange'\n",
    "    else:\n",
    "        c = 'silver'\n",
    "    c_list.append(c)\n",
    "\n",
    "\n",
    "off_statistic_mean_frame['49 & Up Club'] = c_list   "
   ]
  },
  {
   "cell_type": "code",
   "execution_count": 419,
   "metadata": {},
   "outputs": [],
   "source": [
    "def off_stats_grapher(statistic):\n",
    "    \n",
    "    if statistic in ['TOV', 'PF']:\n",
    "        ascend_arg = True\n",
    "        upper = .25\n",
    "        down = .75\n",
    "    else:\n",
    "        ascend_arg = False\n",
    "        upper = .75\n",
    "        down = .25\n",
    "        \n",
    "    off_statistic_mean = df.groupby('TEAM_ABBREVIATION')[statistic].mean()\n",
    "\n",
    "    off_statistic_mean_frame = off_statistic_mean.to_frame()\n",
    "    off_statistic_mean_frame.reset_index(inplace=True)\n",
    "    off_statistic_mean_frame = off_statistic_mean_frame.rename(columns = {'TEAM_ABBREVIATION':'TEAM_ABBREVIATION'})\n",
    "    \n",
    "    c_list = []\n",
    "    for index, row in off_statistic_mean_frame.iterrows():\n",
    "        if row['TEAM_ABBREVIATION'] in list(team_wins[team_wins['WL'] >= 49].index):\n",
    "            c = 'orange'\n",
    "        else:\n",
    "            c = 'silver'\n",
    "        c_list.append(c)\n",
    "\n",
    "\n",
    "    off_statistic_mean_frame['49 & Up Club'] = c_list   \n",
    "    \n",
    "    off_statistic_mean_frame.sort_values([statistic], ascending = ascend_arg, inplace = True)\n",
    "    off_statistic_mean_frame.plot(x = 'TEAM_ABBREVIATION', y = statistic, kind = 'bar', figsize=(12, 8), \n",
    "                                   color = off_statistic_mean_frame['49 & Up Club'], legend = False\n",
    "                                 )\n",
    "\n",
    "    plt.axhline(y= off_statistic_mean_frame[statistic].mean(), color='red', linestyle='-')\n",
    "    plt.axhline(y= off_statistic_mean_frame.quantile(.25, axis = 0)[statistic], color='black', linestyle='dashed')\n",
    "    plt.axhline(y= off_statistic_mean_frame.quantile(.75, axis = 0)[statistic], color='black', linestyle='dashed')\n",
    "    # # plt.ylim([0.40, 0.50])\n",
    "    # plt.xticks(rotation=45, ha='right')\n",
    "    plt.ylim(off_statistic_mean.min() - (off_statistic_mean.median() * .01), \n",
    "                                         off_statistic_mean.max() + (off_statistic_mean.median() * .01))\n",
    "\n",
    "    plt.axhspan(off_statistic_mean_frame.quantile(.75, axis = 0)[statistic], \n",
    "                plt.ylim()[1],\n",
    "                facecolor='g', alpha=0.2)\n",
    "\n",
    "    plt.axhspan(off_statistic_mean_frame.quantile(.25, axis = 0)[statistic], \n",
    "                plt.ylim()[0],\n",
    "                facecolor='r', alpha=0.2)\n",
    "\n",
    "    ax = plt.gca()\n",
    "    ax.set_facecolor('white')\n",
    "    ax.spines['bottom'].set_color('black')\n",
    "    ax.spines['top'].set_color('black')\n",
    "    ax.spines['right'].set_color('black')\n",
    "    ax.spines['left'].set_color('black')\n",
    "\n",
    "    plt.title('NBA TEAM PLUS/MINUS 2007-08') \n",
    "#     plt.title('NBA TEAM OFFENSIVE ' + str(statistic) + ' ' + str(SEASON))        \n",
    "    #plt.show()\n",
    "    plt.savefig('test_off_graph_' + str(statistic) + '.png')"
   ]
  },
  {
   "cell_type": "code",
   "execution_count": 291,
   "metadata": {},
   "outputs": [
    {
     "data": {
      "image/png": "[encoded data removed]",
      "text/plain": [
       "<Figure size 864x576 with 1 Axes>"
      ]
     },
     "metadata": {},
     "output_type": "display_data"
    }
   ],
   "source": [
    "def_stats_grapher('FTA')"
   ]
  },
  {
   "cell_type": "code",
   "execution_count": 420,
   "metadata": {},
   "outputs": [
    {
     "data": {
      "image/png": "[encoded data removed]",
      "text/plain": [
       "<Figure size 864x576 with 1 Axes>"
      ]
     },
     "metadata": {},
     "output_type": "display_data"
    }
   ],
   "source": [
    "off_stats_grapher('PLUS_MINUS')"
   ]
  },
  {
   "cell_type": "code",
   "execution_count": null,
   "metadata": {},
   "outputs": [],
   "source": []
  },
  {
   "cell_type": "code",
   "execution_count": null,
   "metadata": {},
   "outputs": [],
   "source": []
  },
  {
   "cell_type": "code",
   "execution_count": null,
   "metadata": {},
   "outputs": [],
   "source": []
  }
 ],
 "metadata": {
  "kernelspec": {
   "display_name": "Python 3",
   "language": "python",
   "name": "python3"
  },
  "language_info": {
   "codemirror_mode": {
    "name": "ipython",
    "version": 3
   },
   "file_extension": ".py",
   "mimetype": "text/x-python",
   "name": "python",
   "nbconvert_exporter": "python",
   "pygments_lexer": "ipython3",
   "version": "3.6.4"
  }
 },
 "nbformat": 4,
 "nbformat_minor": 4
}
